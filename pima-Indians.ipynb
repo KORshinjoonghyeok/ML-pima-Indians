{
 "cells": [
  {
   "cell_type": "code",
   "execution_count": 26,
   "metadata": {},
   "outputs": [],
   "source": [
    "import numpy as np\n",
    "import pandas as pd\n",
    "import matplotlib.pyplot as plt\n",
    "import seaborn as sns\n",
    "\n",
    "from sklearn.model_selection import train_test_split\n",
    "from sklearn.metrics import accuracy_score, precision_score, recall_score, roc_auc_score\n",
    "from sklearn.metrics import f1_score, confusion_matrix, precision_recall_curve, roc_curve\n",
    "from sklearn.preprocessing import StandardScaler\n",
    "from sklearn.linear_model import LogisticRegression\n",
    "from sklearn.preprocessing import Binarizer\n",
    "\n",
    "import warnings\n",
    "warnings.filterwarnings('ignore')\n"
   ]
  },
  {
   "cell_type": "code",
   "execution_count": 2,
   "metadata": {},
   "outputs": [
    {
     "name": "stdout",
     "output_type": "stream",
     "text": [
      "0    500\n",
      "1    268\n",
      "Name: Outcome, dtype: int64\n"
     ]
    },
    {
     "data": {
      "text/html": [
       "<div>\n",
       "<style scoped>\n",
       "    .dataframe tbody tr th:only-of-type {\n",
       "        vertical-align: middle;\n",
       "    }\n",
       "\n",
       "    .dataframe tbody tr th {\n",
       "        vertical-align: top;\n",
       "    }\n",
       "\n",
       "    .dataframe thead th {\n",
       "        text-align: right;\n",
       "    }\n",
       "</style>\n",
       "<table border=\"1\" class=\"dataframe\">\n",
       "  <thead>\n",
       "    <tr style=\"text-align: right;\">\n",
       "      <th></th>\n",
       "      <th>Pregnancies</th>\n",
       "      <th>Glucose</th>\n",
       "      <th>BloodPressure</th>\n",
       "      <th>SkinThickness</th>\n",
       "      <th>Insulin</th>\n",
       "      <th>BMI</th>\n",
       "      <th>DiabetesPedigreeFunction</th>\n",
       "      <th>Age</th>\n",
       "      <th>Outcome</th>\n",
       "    </tr>\n",
       "  </thead>\n",
       "  <tbody>\n",
       "    <tr>\n",
       "      <th>0</th>\n",
       "      <td>6</td>\n",
       "      <td>148</td>\n",
       "      <td>72</td>\n",
       "      <td>35</td>\n",
       "      <td>0</td>\n",
       "      <td>33.6</td>\n",
       "      <td>0.627</td>\n",
       "      <td>50</td>\n",
       "      <td>1</td>\n",
       "    </tr>\n",
       "    <tr>\n",
       "      <th>1</th>\n",
       "      <td>1</td>\n",
       "      <td>85</td>\n",
       "      <td>66</td>\n",
       "      <td>29</td>\n",
       "      <td>0</td>\n",
       "      <td>26.6</td>\n",
       "      <td>0.351</td>\n",
       "      <td>31</td>\n",
       "      <td>0</td>\n",
       "    </tr>\n",
       "    <tr>\n",
       "      <th>2</th>\n",
       "      <td>8</td>\n",
       "      <td>183</td>\n",
       "      <td>64</td>\n",
       "      <td>0</td>\n",
       "      <td>0</td>\n",
       "      <td>23.3</td>\n",
       "      <td>0.672</td>\n",
       "      <td>32</td>\n",
       "      <td>1</td>\n",
       "    </tr>\n",
       "    <tr>\n",
       "      <th>3</th>\n",
       "      <td>1</td>\n",
       "      <td>89</td>\n",
       "      <td>66</td>\n",
       "      <td>23</td>\n",
       "      <td>94</td>\n",
       "      <td>28.1</td>\n",
       "      <td>0.167</td>\n",
       "      <td>21</td>\n",
       "      <td>0</td>\n",
       "    </tr>\n",
       "    <tr>\n",
       "      <th>4</th>\n",
       "      <td>0</td>\n",
       "      <td>137</td>\n",
       "      <td>40</td>\n",
       "      <td>35</td>\n",
       "      <td>168</td>\n",
       "      <td>43.1</td>\n",
       "      <td>2.288</td>\n",
       "      <td>33</td>\n",
       "      <td>1</td>\n",
       "    </tr>\n",
       "  </tbody>\n",
       "</table>\n",
       "</div>"
      ],
      "text/plain": [
       "   Pregnancies  Glucose  BloodPressure  SkinThickness  Insulin   BMI  \\\n",
       "0            6      148             72             35        0  33.6   \n",
       "1            1       85             66             29        0  26.6   \n",
       "2            8      183             64              0        0  23.3   \n",
       "3            1       89             66             23       94  28.1   \n",
       "4            0      137             40             35      168  43.1   \n",
       "\n",
       "   DiabetesPedigreeFunction  Age  Outcome  \n",
       "0                     0.627   50        1  \n",
       "1                     0.351   31        0  \n",
       "2                     0.672   32        1  \n",
       "3                     0.167   21        0  \n",
       "4                     2.288   33        1  "
      ]
     },
     "execution_count": 2,
     "metadata": {},
     "output_type": "execute_result"
    }
   ],
   "source": [
    "train = pd.read_csv('D:/shinj/Data/[4]pima-Indians/diabetes.csv')\n",
    "print(train['Outcome'].value_counts())\n",
    "train.head()"
   ]
  },
  {
   "cell_type": "code",
   "execution_count": 3,
   "metadata": {},
   "outputs": [
    {
     "name": "stdout",
     "output_type": "stream",
     "text": [
      "<class 'pandas.core.frame.DataFrame'>\n",
      "RangeIndex: 768 entries, 0 to 767\n",
      "Data columns (total 9 columns):\n",
      " #   Column                    Non-Null Count  Dtype  \n",
      "---  ------                    --------------  -----  \n",
      " 0   Pregnancies               768 non-null    int64  \n",
      " 1   Glucose                   768 non-null    int64  \n",
      " 2   BloodPressure             768 non-null    int64  \n",
      " 3   SkinThickness             768 non-null    int64  \n",
      " 4   Insulin                   768 non-null    int64  \n",
      " 5   BMI                       768 non-null    float64\n",
      " 6   DiabetesPedigreeFunction  768 non-null    float64\n",
      " 7   Age                       768 non-null    int64  \n",
      " 8   Outcome                   768 non-null    int64  \n",
      "dtypes: float64(2), int64(7)\n",
      "memory usage: 54.1 KB\n"
     ]
    }
   ],
   "source": [
    "train.info()"
   ]
  },
  {
   "cell_type": "code",
   "execution_count": 4,
   "metadata": {},
   "outputs": [
    {
     "data": {
      "text/plain": [
       "Pregnancies                 0\n",
       "Glucose                     0\n",
       "BloodPressure               0\n",
       "SkinThickness               0\n",
       "Insulin                     0\n",
       "BMI                         0\n",
       "DiabetesPedigreeFunction    0\n",
       "Age                         0\n",
       "Outcome                     0\n",
       "dtype: int64"
      ]
     },
     "execution_count": 4,
     "metadata": {},
     "output_type": "execute_result"
    }
   ],
   "source": [
    "train.isnull().sum()"
   ]
  },
  {
   "cell_type": "code",
   "execution_count": 5,
   "metadata": {},
   "outputs": [],
   "source": [
    "features = train.columns.difference(['Outcome'])\n",
    "label = 'Outcome'\n",
    "\n",
    "X = train[features]\n",
    "y = train[label]"
   ]
  },
  {
   "cell_type": "code",
   "execution_count": 6,
   "metadata": {},
   "outputs": [],
   "source": [
    "X_train, X_test, y_train, y_test = train_test_split(X, y, test_size = 0.2,\n",
    "                                                   random_state=156, stratify = y)"
   ]
  },
  {
   "cell_type": "code",
   "execution_count": 7,
   "metadata": {},
   "outputs": [],
   "source": [
    "lr_clf = LogisticRegression()\n",
    "lr_clf.fit(X_train, y_train)\n",
    "pred = lr_clf.predict(X_test)"
   ]
  },
  {
   "cell_type": "code",
   "execution_count": 8,
   "metadata": {},
   "outputs": [
    {
     "data": {
      "text/plain": [
       "array([0, 0, 0, 0, 0, 1, 1, 0, 0, 0, 1, 0, 0, 0, 0, 0, 1, 0, 0, 1, 0, 0,\n",
       "       0, 0, 0, 0, 1, 1, 0, 1, 0, 0, 0, 0, 0, 1, 0, 1, 1, 1, 0, 0, 1, 0,\n",
       "       0, 0, 1, 0, 0, 0, 0, 1, 1, 0, 0, 0, 0, 0, 0, 0, 0, 1, 0, 1, 0, 0,\n",
       "       0, 1, 0, 1, 0, 0, 0, 0, 1, 0, 0, 0, 0, 0, 0, 0, 1, 0, 0, 0, 1, 1,\n",
       "       0, 0, 0, 0, 1, 0, 0, 1, 0, 1, 0, 1, 1, 1, 0, 0, 0, 0, 0, 0, 0, 0,\n",
       "       1, 0, 0, 0, 0, 0, 1, 0, 0, 1, 1, 0, 1, 1, 0, 0, 0, 0, 0, 0, 0, 0,\n",
       "       0, 0, 0, 0, 1, 1, 0, 0, 0, 1, 1, 0, 1, 0, 0, 0, 1, 1, 0, 0, 0, 0],\n",
       "      dtype=int64)"
      ]
     },
     "execution_count": 8,
     "metadata": {},
     "output_type": "execute_result"
    }
   ],
   "source": [
    "pred"
   ]
  },
  {
   "cell_type": "code",
   "execution_count": 9,
   "metadata": {},
   "outputs": [
    {
     "data": {
      "text/plain": [
       "array([[0.97821393, 0.02178607],\n",
       "       [0.79163351, 0.20836649],\n",
       "       [0.84504686, 0.15495314],\n",
       "       [0.50582233, 0.49417767],\n",
       "       [0.95476251, 0.04523749],\n",
       "       [0.41163779, 0.58836221],\n",
       "       [0.25591245, 0.74408755],\n",
       "       [0.79616386, 0.20383614],\n",
       "       [0.84894684, 0.15105316],\n",
       "       [0.84439469, 0.15560531],\n",
       "       [0.32174708, 0.67825292],\n",
       "       [0.50119451, 0.49880549],\n",
       "       [0.93443136, 0.06556864],\n",
       "       [0.5895431 , 0.4104569 ],\n",
       "       [0.78918197, 0.21081803],\n",
       "       [0.87854231, 0.12145769],\n",
       "       [0.24615126, 0.75384874],\n",
       "       [0.59347426, 0.40652574],\n",
       "       [0.96413863, 0.03586137],\n",
       "       [0.21493629, 0.78506371],\n",
       "       [0.53766112, 0.46233888],\n",
       "       [0.69851447, 0.30148553],\n",
       "       [0.93184793, 0.06815207],\n",
       "       [0.6602242 , 0.3397758 ],\n",
       "       [0.65651309, 0.34348691],\n",
       "       [0.88829606, 0.11170394],\n",
       "       [0.08231568, 0.91768432],\n",
       "       [0.34439139, 0.65560861],\n",
       "       [0.82960986, 0.17039014],\n",
       "       [0.18822251, 0.81177749],\n",
       "       [0.79921986, 0.20078014],\n",
       "       [0.79449747, 0.20550253],\n",
       "       [0.86012376, 0.13987624],\n",
       "       [0.76866119, 0.23133881],\n",
       "       [0.84826755, 0.15173245],\n",
       "       [0.29537425, 0.70462575],\n",
       "       [0.7210019 , 0.2789981 ],\n",
       "       [0.31569446, 0.68430554],\n",
       "       [0.19215627, 0.80784373],\n",
       "       [0.39188168, 0.60811832],\n",
       "       [0.59182402, 0.40817598],\n",
       "       [0.66088557, 0.33911443],\n",
       "       [0.349609  , 0.650391  ],\n",
       "       [0.74880576, 0.25119424],\n",
       "       [0.68733374, 0.31266626],\n",
       "       [0.95794992, 0.04205008],\n",
       "       [0.23975579, 0.76024421],\n",
       "       [0.86963834, 0.13036166],\n",
       "       [0.51022179, 0.48977821],\n",
       "       [0.70514614, 0.29485386],\n",
       "       [0.65714383, 0.34285617],\n",
       "       [0.17381186, 0.82618814],\n",
       "       [0.1522904 , 0.8477096 ],\n",
       "       [0.91445145, 0.08554855],\n",
       "       [0.8412139 , 0.1587861 ],\n",
       "       [0.68488837, 0.31511163],\n",
       "       [0.9000642 , 0.0999358 ],\n",
       "       [0.63348258, 0.36651742],\n",
       "       [0.60598841, 0.39401159],\n",
       "       [0.59086068, 0.40913932],\n",
       "       [0.77258321, 0.22741679],\n",
       "       [0.26551957, 0.73448043],\n",
       "       [0.6314279 , 0.3685721 ],\n",
       "       [0.44335756, 0.55664244],\n",
       "       [0.76098443, 0.23901557],\n",
       "       [0.89696752, 0.10303248],\n",
       "       [0.80055723, 0.19944277],\n",
       "       [0.28892429, 0.71107571],\n",
       "       [0.8348041 , 0.1651959 ],\n",
       "       [0.32152893, 0.67847107],\n",
       "       [0.91517142, 0.08482858],\n",
       "       [0.6420617 , 0.3579383 ],\n",
       "       [0.85602451, 0.14397549],\n",
       "       [0.5376586 , 0.4623414 ],\n",
       "       [0.32544452, 0.67455548],\n",
       "       [0.73275737, 0.26724263],\n",
       "       [0.90983885, 0.09016115],\n",
       "       [0.89834088, 0.10165912],\n",
       "       [0.85787311, 0.14212689],\n",
       "       [0.62263346, 0.37736654],\n",
       "       [0.90311115, 0.09688885],\n",
       "       [0.89767898, 0.10232102],\n",
       "       [0.2792814 , 0.7207186 ],\n",
       "       [0.80268911, 0.19731089],\n",
       "       [0.71664796, 0.28335204],\n",
       "       [0.65087826, 0.34912174],\n",
       "       [0.23850206, 0.76149794],\n",
       "       [0.28202871, 0.71797129],\n",
       "       [0.91694537, 0.08305463],\n",
       "       [0.93376108, 0.06623892],\n",
       "       [0.93204964, 0.06795036],\n",
       "       [0.85994327, 0.14005673],\n",
       "       [0.26071799, 0.73928201],\n",
       "       [0.73773956, 0.26226044],\n",
       "       [0.64772485, 0.35227515],\n",
       "       [0.35523897, 0.64476103],\n",
       "       [0.78570695, 0.21429305],\n",
       "       [0.49536481, 0.50463519],\n",
       "       [0.94194865, 0.05805135],\n",
       "       [0.30372015, 0.69627985],\n",
       "       [0.14495931, 0.85504069],\n",
       "       [0.42929366, 0.57070634],\n",
       "       [0.66971465, 0.33028535],\n",
       "       [0.7469704 , 0.2530296 ],\n",
       "       [0.87280284, 0.12719716],\n",
       "       [0.55360844, 0.44639156],\n",
       "       [0.62151313, 0.37848687],\n",
       "       [0.57022529, 0.42977471],\n",
       "       [0.94800413, 0.05199587],\n",
       "       [0.89754439, 0.10245561],\n",
       "       [0.46715081, 0.53284919],\n",
       "       [0.52909476, 0.47090524],\n",
       "       [0.83697196, 0.16302804],\n",
       "       [0.80486611, 0.19513389],\n",
       "       [0.72702886, 0.27297114],\n",
       "       [0.59415704, 0.40584296],\n",
       "       [0.22651008, 0.77348992],\n",
       "       [0.88719489, 0.11280511],\n",
       "       [0.67598383, 0.32401617],\n",
       "       [0.01036029, 0.98963971],\n",
       "       [0.46523213, 0.53476787],\n",
       "       [0.98326319, 0.01673681],\n",
       "       [0.1216193 , 0.8783807 ],\n",
       "       [0.34251411, 0.65748589],\n",
       "       [0.79324125, 0.20675875],\n",
       "       [0.68442391, 0.31557609],\n",
       "       [0.89514378, 0.10485622],\n",
       "       [0.93051514, 0.06948486],\n",
       "       [0.74496188, 0.25503812],\n",
       "       [0.71900509, 0.28099491],\n",
       "       [0.92012343, 0.07987657],\n",
       "       [0.91039175, 0.08960825],\n",
       "       [0.64939527, 0.35060473],\n",
       "       [0.9079632 , 0.0920368 ],\n",
       "       [0.93247095, 0.06752905],\n",
       "       [0.52812486, 0.47187514],\n",
       "       [0.1665557 , 0.8334443 ],\n",
       "       [0.23763002, 0.76236998],\n",
       "       [0.92526812, 0.07473188],\n",
       "       [0.86280869, 0.13719131],\n",
       "       [0.89218398, 0.10781602],\n",
       "       [0.4398907 , 0.5601093 ],\n",
       "       [0.46894713, 0.53105287],\n",
       "       [0.8391585 , 0.1608415 ],\n",
       "       [0.34087351, 0.65912649],\n",
       "       [0.94188189, 0.05811811],\n",
       "       [0.81944462, 0.18055538],\n",
       "       [0.94523844, 0.05476156],\n",
       "       [0.23313488, 0.76686512],\n",
       "       [0.4777005 , 0.5222995 ],\n",
       "       [0.59315981, 0.40684019],\n",
       "       [0.93405339, 0.06594661],\n",
       "       [0.52132375, 0.47867625],\n",
       "       [0.86488296, 0.13511704]])"
      ]
     },
     "execution_count": 9,
     "metadata": {},
     "output_type": "execute_result"
    }
   ],
   "source": [
    "lr_clf.predict_proba(X_test)"
   ]
  },
  {
   "cell_type": "code",
   "execution_count": 10,
   "metadata": {},
   "outputs": [
    {
     "data": {
      "text/plain": [
       "array([0.02178607, 0.20836649, 0.15495314, 0.49417767, 0.04523749,\n",
       "       0.58836221, 0.74408755, 0.20383614, 0.15105316, 0.15560531,\n",
       "       0.67825292, 0.49880549, 0.06556864, 0.4104569 , 0.21081803,\n",
       "       0.12145769, 0.75384874, 0.40652574, 0.03586137, 0.78506371,\n",
       "       0.46233888, 0.30148553, 0.06815207, 0.3397758 , 0.34348691,\n",
       "       0.11170394, 0.91768432, 0.65560861, 0.17039014, 0.81177749,\n",
       "       0.20078014, 0.20550253, 0.13987624, 0.23133881, 0.15173245,\n",
       "       0.70462575, 0.2789981 , 0.68430554, 0.80784373, 0.60811832,\n",
       "       0.40817598, 0.33911443, 0.650391  , 0.25119424, 0.31266626,\n",
       "       0.04205008, 0.76024421, 0.13036166, 0.48977821, 0.29485386,\n",
       "       0.34285617, 0.82618814, 0.8477096 , 0.08554855, 0.1587861 ,\n",
       "       0.31511163, 0.0999358 , 0.36651742, 0.39401159, 0.40913932,\n",
       "       0.22741679, 0.73448043, 0.3685721 , 0.55664244, 0.23901557,\n",
       "       0.10303248, 0.19944277, 0.71107571, 0.1651959 , 0.67847107,\n",
       "       0.08482858, 0.3579383 , 0.14397549, 0.4623414 , 0.67455548,\n",
       "       0.26724263, 0.09016115, 0.10165912, 0.14212689, 0.37736654,\n",
       "       0.09688885, 0.10232102, 0.7207186 , 0.19731089, 0.28335204,\n",
       "       0.34912174, 0.76149794, 0.71797129, 0.08305463, 0.06623892,\n",
       "       0.06795036, 0.14005673, 0.73928201, 0.26226044, 0.35227515,\n",
       "       0.64476103, 0.21429305, 0.50463519, 0.05805135, 0.69627985,\n",
       "       0.85504069, 0.57070634, 0.33028535, 0.2530296 , 0.12719716,\n",
       "       0.44639156, 0.37848687, 0.42977471, 0.05199587, 0.10245561,\n",
       "       0.53284919, 0.47090524, 0.16302804, 0.19513389, 0.27297114,\n",
       "       0.40584296, 0.77348992, 0.11280511, 0.32401617, 0.98963971,\n",
       "       0.53476787, 0.01673681, 0.8783807 , 0.65748589, 0.20675875,\n",
       "       0.31557609, 0.10485622, 0.06948486, 0.25503812, 0.28099491,\n",
       "       0.07987657, 0.08960825, 0.35060473, 0.0920368 , 0.06752905,\n",
       "       0.47187514, 0.8334443 , 0.76236998, 0.07473188, 0.13719131,\n",
       "       0.10781602, 0.5601093 , 0.53105287, 0.1608415 , 0.65912649,\n",
       "       0.05811811, 0.18055538, 0.05476156, 0.76686512, 0.5222995 ,\n",
       "       0.40684019, 0.06594661, 0.47867625, 0.13511704])"
      ]
     },
     "execution_count": 10,
     "metadata": {},
     "output_type": "execute_result"
    }
   ],
   "source": [
    "pred_proba = lr_clf.predict_proba(X_test)[:, 1]\n",
    "pred_proba"
   ]
  },
  {
   "cell_type": "markdown",
   "metadata": {},
   "source": [
    "### 평가지표 함수"
   ]
  },
  {
   "cell_type": "code",
   "execution_count": 11,
   "metadata": {},
   "outputs": [],
   "source": [
    "def get_clf_eval(y_test, pred = None, pred_proba = None):\n",
    "    confusion = confusion_matrix(y_test, pred)\n",
    "    accuracy = accuracy_score(y_test, pred)\n",
    "    precision = precision_score(y_test, pred)\n",
    "    recall = recall_score(y_test, pred)\n",
    "    f1 = f1_score(y_test, pred)\n",
    "    roc_auc = roc_auc_score(y_test, pred_proba)\n",
    "\n",
    "    print('오차행렬')\n",
    "    print(confusion)\n",
    "    print('정확도:{0: .4f}, 정밀도:{1: .4f}, 재현율:{2: .4f}),F1:{3: .4f},AUC:{4: .4f}'.format(accuracy, precision, recall, f1, roc_auc))"
   ]
  },
  {
   "cell_type": "code",
   "execution_count": 12,
   "metadata": {},
   "outputs": [
    {
     "name": "stdout",
     "output_type": "stream",
     "text": [
      "오차행렬\n",
      "[[88 12]\n",
      " [23 31]]\n",
      "정확도: 0.7727, 정밀도: 0.7209, 재현율: 0.5741),F1: 0.6392,AUC: 0.7919\n"
     ]
    }
   ],
   "source": [
    "get_clf_eval(y_test, pred, pred_proba)"
   ]
  },
  {
   "cell_type": "markdown",
   "metadata": {},
   "source": [
    "### precision_recall_curve_plot 함수"
   ]
  },
  {
   "cell_type": "code",
   "execution_count": 13,
   "metadata": {},
   "outputs": [],
   "source": [
    "def precision_recall_curve_plot(y_test, pred_proba_c1):\n",
    "    precisions, recalls, thresholds = precision_recall_curve(y_test, pred_proba_c1)\n",
    "    \n",
    "    plt.figure(figsize=(8,6))\n",
    "    thresholds_boundary = thresholds.shape[0]\n",
    "    plt.plot(thresholds, precisions[0:thresholds_boundary], linestyle='--', label = 'precision')\n",
    "    plt.plot(thresholds, recalls[0:thresholds_boundary],label = 'recall')\n",
    "    \n",
    "    start, end = plt.xlim()\n",
    "    plt.xticks(np.round(np.arange(start, end, 0.1),2))\n",
    "    \n",
    "    plt.xlabel('Threshold Value'); plt.ylabel('Precision and Recall Value')\n",
    "    plt.legend(); plt.grid()\n",
    "    plt.show()"
   ]
  },
  {
   "cell_type": "code",
   "execution_count": 23,
   "metadata": {
    "scrolled": false
   },
   "outputs": [
    {
     "data": {
      "image/png": "[encoded data removed]",
      "text/plain": [
       "<Figure size 576x432 with 1 Axes>"
      ]
     },
     "metadata": {
      "needs_background": "light"
     },
     "output_type": "display_data"
    }
   ],
   "source": [
    "precision_recall_curve_plot(y_test, pred_proba)"
   ]
  },
  {
   "cell_type": "markdown",
   "metadata": {},
   "source": [
    "###### 이상데이터 처리\n",
    "###### 데이터 수 부족 -> 0으로 대체"
   ]
  },
  {
   "cell_type": "code",
   "execution_count": 15,
   "metadata": {
    "scrolled": true
   },
   "outputs": [
    {
     "data": {
      "text/plain": [
       "(array([  5.,   0.,   4.,  32., 156., 211., 163.,  95.,  56.,  46.]),\n",
       " array([  0. ,  19.9,  39.8,  59.7,  79.6,  99.5, 119.4, 139.3, 159.2,\n",
       "        179.1, 199. ]),\n",
       " <a list of 10 Patch objects>)"
      ]
     },
     "execution_count": 15,
     "metadata": {},
     "output_type": "execute_result"
    },
    {
     "data": {
      "image/png": "[encoded data removed]",
      "text/plain": [
       "<Figure size 432x288 with 1 Axes>"
      ]
     },
     "metadata": {
      "needs_background": "light"
     },
     "output_type": "display_data"
    }
   ],
   "source": [
    "plt.hist(train['Glucose'], bins=10)"
   ]
  },
  {
   "cell_type": "code",
   "execution_count": 18,
   "metadata": {},
   "outputs": [
    {
     "name": "stdout",
     "output_type": "stream",
     "text": [
      "Glucose 0건수는 5, 퍼센트는 0.65 %\n",
      "BloodPressure 0건수는 35, 퍼센트는 4.56 %\n",
      "SkinThickness 0건수는 227, 퍼센트는 29.56 %\n",
      "Insulin 0건수는 374, 퍼센트는 48.70 %\n",
      "BMI 0건수는 11, 퍼센트는 1.43 %\n"
     ]
    }
   ],
   "source": [
    "zero_features = ['Glucose', 'BloodPressure', 'SkinThickness', 'Insulin', 'BMI']\n",
    "\n",
    "total_count = train['Glucose'].count()\n",
    "\n",
    "for features in zero_features:\n",
    "    zero_count = train[train[features] == 0][features].count()\n",
    "    print('{0} 0건수는 {1}, 퍼센트는 {2:.2f} %'.format(features, zero_count, 100*zero_count/total_count))"
   ]
  },
  {
   "cell_type": "code",
   "execution_count": 19,
   "metadata": {},
   "outputs": [],
   "source": [
    "mean_zero_features = train[zero_features].mean()"
   ]
  },
  {
   "cell_type": "code",
   "execution_count": 20,
   "metadata": {},
   "outputs": [
    {
     "data": {
      "text/plain": [
       "Glucose          120.894531\n",
       "BloodPressure     69.105469\n",
       "SkinThickness     20.536458\n",
       "Insulin           79.799479\n",
       "BMI               31.992578\n",
       "dtype: float64"
      ]
     },
     "execution_count": 20,
     "metadata": {},
     "output_type": "execute_result"
    }
   ],
   "source": [
    "mean_zero_features"
   ]
  },
  {
   "cell_type": "code",
   "execution_count": 21,
   "metadata": {},
   "outputs": [],
   "source": [
    "train[zero_features] = train[zero_features].replace(0, mean_zero_features)"
   ]
  },
  {
   "cell_type": "code",
   "execution_count": 22,
   "metadata": {},
   "outputs": [
    {
     "name": "stdout",
     "output_type": "stream",
     "text": [
      "Glucose 0 건수는 0, 퍼센트는 0.00 %\n",
      "BloodPressure 0 건수는 0, 퍼센트는 0.00 %\n",
      "SkinThickness 0 건수는 0, 퍼센트는 0.00 %\n",
      "Insulin 0 건수는 0, 퍼센트는 0.00 %\n",
      "BMI 0 건수는 0, 퍼센트는 0.00 %\n"
     ]
    }
   ],
   "source": [
    "for features in zero_features:\n",
    "    zero_count = train[train[features] == 0][features].count()\n",
    "    print('{0} 0 건수는 {1}, 퍼센트는 {2:.2f} %'.format(features, zero_count, 100*zero_count/total_count))"
   ]
  },
  {
   "cell_type": "code",
   "execution_count": 24,
   "metadata": {},
   "outputs": [],
   "source": [
    "features = train.columns.difference(['Outcome'])\n",
    "label = 'Outcome'\n",
    "\n",
    "X = train[features]\n",
    "y = train[label]"
   ]
  },
  {
   "cell_type": "markdown",
   "metadata": {},
   "source": [
    "### scale"
   ]
  },
  {
   "cell_type": "code",
   "execution_count": 27,
   "metadata": {},
   "outputs": [],
   "source": [
    "scaler = StandardScaler()\n",
    "X_scaled = scaler.fit_transform(X)"
   ]
  },
  {
   "cell_type": "code",
   "execution_count": 28,
   "metadata": {},
   "outputs": [
    {
     "data": {
      "text/html": [
       "<div>\n",
       "<style scoped>\n",
       "    .dataframe tbody tr th:only-of-type {\n",
       "        vertical-align: middle;\n",
       "    }\n",
       "\n",
       "    .dataframe tbody tr th {\n",
       "        vertical-align: top;\n",
       "    }\n",
       "\n",
       "    .dataframe thead th {\n",
       "        text-align: right;\n",
       "    }\n",
       "</style>\n",
       "<table border=\"1\" class=\"dataframe\">\n",
       "  <thead>\n",
       "    <tr style=\"text-align: right;\">\n",
       "      <th></th>\n",
       "      <th>0</th>\n",
       "      <th>1</th>\n",
       "      <th>2</th>\n",
       "      <th>3</th>\n",
       "      <th>4</th>\n",
       "      <th>5</th>\n",
       "      <th>6</th>\n",
       "      <th>7</th>\n",
       "    </tr>\n",
       "  </thead>\n",
       "  <tbody>\n",
       "    <tr>\n",
       "      <th>0</th>\n",
       "      <td>1.425995</td>\n",
       "      <td>0.167255</td>\n",
       "      <td>-0.021044</td>\n",
       "      <td>0.468492</td>\n",
       "      <td>0.865276</td>\n",
       "      <td>-0.417768</td>\n",
       "      <td>0.639947</td>\n",
       "      <td>0.872057</td>\n",
       "    </tr>\n",
       "    <tr>\n",
       "      <th>1</th>\n",
       "      <td>-0.190672</td>\n",
       "      <td>-0.851535</td>\n",
       "      <td>-0.516583</td>\n",
       "      <td>-0.365061</td>\n",
       "      <td>-1.205989</td>\n",
       "      <td>-0.417768</td>\n",
       "      <td>-0.844885</td>\n",
       "      <td>0.248678</td>\n",
       "    </tr>\n",
       "    <tr>\n",
       "      <th>2</th>\n",
       "      <td>-0.105584</td>\n",
       "      <td>-1.331821</td>\n",
       "      <td>-0.681762</td>\n",
       "      <td>0.604397</td>\n",
       "      <td>2.015979</td>\n",
       "      <td>-0.417768</td>\n",
       "      <td>1.233880</td>\n",
       "      <td>-0.630654</td>\n",
       "    </tr>\n",
       "    <tr>\n",
       "      <th>3</th>\n",
       "      <td>-1.041549</td>\n",
       "      <td>-0.633222</td>\n",
       "      <td>-0.516583</td>\n",
       "      <td>-0.920763</td>\n",
       "      <td>-1.074480</td>\n",
       "      <td>-0.265107</td>\n",
       "      <td>-0.844885</td>\n",
       "      <td>-0.374700</td>\n",
       "    </tr>\n",
       "    <tr>\n",
       "      <th>4</th>\n",
       "      <td>-0.020496</td>\n",
       "      <td>1.549899</td>\n",
       "      <td>-2.663916</td>\n",
       "      <td>5.484909</td>\n",
       "      <td>0.503626</td>\n",
       "      <td>0.530423</td>\n",
       "      <td>-1.141852</td>\n",
       "      <td>0.872057</td>\n",
       "    </tr>\n",
       "    <tr>\n",
       "      <th>...</th>\n",
       "      <td>...</td>\n",
       "      <td>...</td>\n",
       "      <td>...</td>\n",
       "      <td>...</td>\n",
       "      <td>...</td>\n",
       "      <td>...</td>\n",
       "      <td>...</td>\n",
       "      <td>...</td>\n",
       "    </tr>\n",
       "    <tr>\n",
       "      <th>763</th>\n",
       "      <td>2.532136</td>\n",
       "      <td>0.065376</td>\n",
       "      <td>0.309315</td>\n",
       "      <td>-0.908682</td>\n",
       "      <td>-0.679954</td>\n",
       "      <td>0.659428</td>\n",
       "      <td>1.827813</td>\n",
       "      <td>2.222711</td>\n",
       "    </tr>\n",
       "    <tr>\n",
       "      <th>764</th>\n",
       "      <td>-0.531023</td>\n",
       "      <td>0.632988</td>\n",
       "      <td>-0.186224</td>\n",
       "      <td>-0.398282</td>\n",
       "      <td>0.010468</td>\n",
       "      <td>-0.417768</td>\n",
       "      <td>-0.547919</td>\n",
       "      <td>0.040885</td>\n",
       "    </tr>\n",
       "    <tr>\n",
       "      <th>765</th>\n",
       "      <td>-0.275760</td>\n",
       "      <td>-0.909751</td>\n",
       "      <td>-0.021044</td>\n",
       "      <td>-0.685193</td>\n",
       "      <td>-0.022409</td>\n",
       "      <td>-0.071599</td>\n",
       "      <td>0.342981</td>\n",
       "      <td>-0.374700</td>\n",
       "    </tr>\n",
       "    <tr>\n",
       "      <th>766</th>\n",
       "      <td>1.170732</td>\n",
       "      <td>-0.342140</td>\n",
       "      <td>-1.012121</td>\n",
       "      <td>-0.371101</td>\n",
       "      <td>0.141977</td>\n",
       "      <td>-0.417768</td>\n",
       "      <td>-0.844885</td>\n",
       "      <td>-0.630654</td>\n",
       "    </tr>\n",
       "    <tr>\n",
       "      <th>767</th>\n",
       "      <td>-0.871374</td>\n",
       "      <td>-0.298477</td>\n",
       "      <td>-0.186224</td>\n",
       "      <td>-0.473785</td>\n",
       "      <td>-0.942972</td>\n",
       "      <td>-0.417768</td>\n",
       "      <td>-0.844885</td>\n",
       "      <td>0.456471</td>\n",
       "    </tr>\n",
       "  </tbody>\n",
       "</table>\n",
       "<p>768 rows × 8 columns</p>\n",
       "</div>"
      ],
      "text/plain": [
       "            0         1         2         3         4         5         6  \\\n",
       "0    1.425995  0.167255 -0.021044  0.468492  0.865276 -0.417768  0.639947   \n",
       "1   -0.190672 -0.851535 -0.516583 -0.365061 -1.205989 -0.417768 -0.844885   \n",
       "2   -0.105584 -1.331821 -0.681762  0.604397  2.015979 -0.417768  1.233880   \n",
       "3   -1.041549 -0.633222 -0.516583 -0.920763 -1.074480 -0.265107 -0.844885   \n",
       "4   -0.020496  1.549899 -2.663916  5.484909  0.503626  0.530423 -1.141852   \n",
       "..        ...       ...       ...       ...       ...       ...       ...   \n",
       "763  2.532136  0.065376  0.309315 -0.908682 -0.679954  0.659428  1.827813   \n",
       "764 -0.531023  0.632988 -0.186224 -0.398282  0.010468 -0.417768 -0.547919   \n",
       "765 -0.275760 -0.909751 -0.021044 -0.685193 -0.022409 -0.071599  0.342981   \n",
       "766  1.170732 -0.342140 -1.012121 -0.371101  0.141977 -0.417768 -0.844885   \n",
       "767 -0.871374 -0.298477 -0.186224 -0.473785 -0.942972 -0.417768 -0.844885   \n",
       "\n",
       "            7  \n",
       "0    0.872057  \n",
       "1    0.248678  \n",
       "2   -0.630654  \n",
       "3   -0.374700  \n",
       "4    0.872057  \n",
       "..        ...  \n",
       "763  2.222711  \n",
       "764  0.040885  \n",
       "765 -0.374700  \n",
       "766 -0.630654  \n",
       "767  0.456471  \n",
       "\n",
       "[768 rows x 8 columns]"
      ]
     },
     "execution_count": 28,
     "metadata": {},
     "output_type": "execute_result"
    }
   ],
   "source": [
    "pd.DataFrame(X_scaled)"
   ]
  },
  {
   "cell_type": "code",
   "execution_count": 29,
   "metadata": {},
   "outputs": [],
   "source": [
    "X_train, X_test, y_train, y_test = train_test_split(X_scaled, y, test_size = 0.2, random_state = 156, stratify = y)"
   ]
  },
  {
   "cell_type": "code",
   "execution_count": 38,
   "metadata": {},
   "outputs": [
    {
     "name": "stdout",
     "output_type": "stream",
     "text": [
      "오차행렬\n",
      "[[90 10]\n",
      " [21 33]]\n",
      "정확도: 0.7987, 정밀도: 0.7674, 재현율: 0.6111),F1: 0.6804,AUC: 0.8433\n"
     ]
    }
   ],
   "source": [
    "lr_reg = LogisticRegression()\n",
    "lr_reg.fit(X_train, y_train)\n",
    "pred = lr_reg.predict(X_test)\n",
    "pred_proba = lr_reg.predict_proba(X_test)\n",
    "\n",
    "get_clf_eval(y_test, pred, pred_proba[:, 1])"
   ]
  },
  {
   "cell_type": "code",
   "execution_count": 42,
   "metadata": {},
   "outputs": [],
   "source": [
    "from sklearn.preprocessing import Binarizer\n",
    "\n",
    "def get_eval_by_threshold(y_test, pred_proba_c1, thresholds):\n",
    "    #thresholds 리스트 객체내의 값을 차례로 iteration하면서 Evaluation 수행\n",
    "    for custom_threshold in thresholds:\n",
    "        binarizer = Binarizer(threshold=custom_threshold).fit(pred_proba_c1)\n",
    "        custom_predict = binarizer.transform(pred_proba_c1)\n",
    "        print('임계값: ',custom_threshold)\n",
    "        get_clf_eval(y_test, custom_predict, pred_proba_c1)"
   ]
  },
  {
   "cell_type": "code",
   "execution_count": 43,
   "metadata": {},
   "outputs": [
    {
     "name": "stdout",
     "output_type": "stream",
     "text": [
      "임계값:  0.3\n",
      "오차행렬\n",
      "[[67 33]\n",
      " [11 43]]\n",
      "정확도: 0.7143, 정밀도: 0.5658, 재현율: 0.7963),F1: 0.6615,AUC: 0.8433\n",
      "임계값:  0.33\n",
      "오차행렬\n",
      "[[72 28]\n",
      " [12 42]]\n",
      "정확도: 0.7403, 정밀도: 0.6000, 재현율: 0.7778),F1: 0.6774,AUC: 0.8433\n",
      "임계값:  0.36\n",
      "오차행렬\n",
      "[[76 24]\n",
      " [15 39]]\n",
      "정확도: 0.7468, 정밀도: 0.6190, 재현율: 0.7222),F1: 0.6667,AUC: 0.8433\n",
      "임계값:  0.39\n",
      "오차행렬\n",
      "[[78 22]\n",
      " [16 38]]\n",
      "정확도: 0.7532, 정밀도: 0.6333, 재현율: 0.7037),F1: 0.6667,AUC: 0.8433\n",
      "임계값:  0.42\n",
      "오차행렬\n",
      "[[84 16]\n",
      " [18 36]]\n",
      "정확도: 0.7792, 정밀도: 0.6923, 재현율: 0.6667),F1: 0.6792,AUC: 0.8433\n",
      "임계값:  0.45\n",
      "오차행렬\n",
      "[[85 15]\n",
      " [18 36]]\n",
      "정확도: 0.7857, 정밀도: 0.7059, 재현율: 0.6667),F1: 0.6857,AUC: 0.8433\n",
      "임계값:  0.48\n",
      "오차행렬\n",
      "[[88 12]\n",
      " [19 35]]\n",
      "정확도: 0.7987, 정밀도: 0.7447, 재현율: 0.6481),F1: 0.6931,AUC: 0.8433\n",
      "임계값:  0.5\n",
      "오차행렬\n",
      "[[90 10]\n",
      " [21 33]]\n",
      "정확도: 0.7987, 정밀도: 0.7674, 재현율: 0.6111),F1: 0.6804,AUC: 0.8433\n"
     ]
    }
   ],
   "source": [
    "thresholds = [0.3, 0.33, 0.36, 0.39, 0.42, 0.45, 0.48, 0.5]\n",
    "pred_proba = lr_reg.predict_proba(X_test)\n",
    "get_eval_by_threshold(y_test, pred_proba[:, 1].reshape(-1,1), thresholds)"
   ]
  },
  {
   "cell_type": "code",
   "execution_count": 46,
   "metadata": {},
   "outputs": [],
   "source": [
    "binarizer = Binarizer(threshold=0.45)"
   ]
  },
  {
   "cell_type": "code",
   "execution_count": 48,
   "metadata": {},
   "outputs": [
    {
     "name": "stdout",
     "output_type": "stream",
     "text": [
      "오차행렬\n",
      "[[85 15]\n",
      " [18 36]]\n",
      "정확도: 0.7857, 정밀도: 0.7059, 재현율: 0.6667),F1: 0.6857,AUC: 0.8433\n"
     ]
    }
   ],
   "source": [
    "pred_th_045 = binarizer.fit_transform(pred_proba[:, 1].reshape(-1, 1))\n",
    "\n",
    "get_clf_eval(y_test, pred_th_045, pred_proba[:, 1])"
   ]
  },
  {
   "cell_type": "code",
   "execution_count": null,
   "metadata": {},
   "outputs": [],
   "source": []
  }
 ],
 "metadata": {
  "kernelspec": {
   "display_name": "Python 3",
   "language": "python",
   "name": "python3"
  },
  "language_info": {
   "codemirror_mode": {
    "name": "ipython",
    "version": 3
   },
   "file_extension": ".py",
   "mimetype": "text/x-python",
   "name": "python",
   "nbconvert_exporter": "python",
   "pygments_lexer": "ipython3",
   "version": "3.8.3"
  }
 },
 "nbformat": 4,
 "nbformat_minor": 4
}
